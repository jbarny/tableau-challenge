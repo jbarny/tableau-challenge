{
 "cells": [
  {
   "cell_type": "markdown",
   "metadata": {},
   "source": [
    "## combine data sets"
   ]
  },
  {
   "cell_type": "code",
   "execution_count": null,
   "metadata": {},
   "outputs": [],
   "source": [
    "import pandas as pd"
   ]
  },
  {
   "cell_type": "code",
   "execution_count": null,
   "metadata": {},
   "outputs": [],
   "source": [
    "# load 2019 data\n",
    "\n",
    "# note: originally 24mos (jan 2018-dec 2019) were loaded to tableau but it exceeded the row limit \n",
    "# of 15M rows. dataset was ultimately reduced to only april-october 2019 in order to draw as many\n",
    "# meaningful conclusions as possible\n",
    "\n",
    "apr19 = pd.read_csv(\"201904-citibike-tripdata.csv\")\n",
    "may19 = pd.read_csv(\"201905-citibike-tripdata.csv\")\n",
    "jun19 = pd.read_csv(\"201906-citibike-tripdata.csv\")\n",
    "jul19 = pd.read_csv(\"201907-citibike-tripdata.csv\")\n",
    "aug19 = pd.read_csv(\"201908-citibike-tripdata.csv\")\n",
    "sep19 = pd.read_csv(\"201909-citibike-tripdata.csv\")\n",
    "oct19 = pd.read_csv(\"201910-citibike-tripdata.csv\")"
   ]
  },
  {
   "cell_type": "code",
   "execution_count": null,
   "metadata": {},
   "outputs": [],
   "source": [
    "# combine dfs\n",
    "df = apr19.append(may19, ignore_index=True).append(jun19, ignore_index=True).append(jul19, ignore_index=True).append(aug19, ignore_index=True).append(sep19, ignore_index=True).append(oct19, ignore_index=True)"
   ]
  },
  {
   "cell_type": "code",
   "execution_count": null,
   "metadata": {},
   "outputs": [],
   "source": [
    "# remove outliers (DOB before 1920 are likely typos, trips more than 2 hours are rare and \n",
    "# throw off charts, some stations were originally marked in canada which is not possible) & NaNs\n",
    "df_reduced = df.loc[(df['birth year'] > 1920) & (df_combined['tripduration'] <= 7200) & (df['start station latitude'] < 43) & (df['end station latitude'] < 43)].dropna()"
   ]
  },
  {
   "cell_type": "code",
   "execution_count": null,
   "metadata": {},
   "outputs": [],
   "source": [
    "# drop extra columns\n",
    "df_combined = df_reduced[['tripduration', 'starttime', 'stoptime',\n",
    "       'start station id', 'start station name', 'start station latitude',\n",
    "       'start station longitude', 'end station id', 'end station name',\n",
    "       'end station latitude', 'end station longitude', 'bikeid', 'usertype',\n",
    "       'birth year', 'gender']]"
   ]
  },
  {
   "cell_type": "code",
   "execution_count": null,
   "metadata": {},
   "outputs": [],
   "source": [
    "# rename columns\n",
    "df_renamed = df.rename(columns={\n",
    "    'tripduration':'Trip Duration', \n",
    "    'starttime': 'Start Time', \n",
    "    'stoptime': 'Stop Time',\n",
    "    'start station id': 'Start Station ID', \n",
    "    'start station name': 'Start Station Name', \n",
    "    'start station latitude': 'Start Station Latitude',\n",
    "    'start station longitude': 'Start Station Longitude', \n",
    "    'end station id': 'End Station ID', \n",
    "    'end station name': 'End Station Name',\n",
    "    'end station latitude': 'End Station Latitude', \n",
    "    'end station longitude': 'End Station Longitude', \n",
    "    'bikeid': 'Bike ID', \n",
    "    'usertype': 'Rider Type',\n",
    "    'birth year': 'Birth Year', \n",
    "    'gender': 'Gender'\n",
    "})"
   ]
  },
  {
   "cell_type": "code",
   "execution_count": null,
   "metadata": {},
   "outputs": [],
   "source": [
    "# citibike_data.csv is the main file for the tableau workbook\n",
    "df_renamed.to_csv(\"citibike_data.csv\")"
   ]
  }
 ],
 "metadata": {
  "kernelspec": {
   "display_name": "Python 3",
   "language": "python",
   "name": "python3"
  },
  "language_info": {
   "codemirror_mode": {
    "name": "ipython",
    "version": 3
   },
   "file_extension": ".py",
   "mimetype": "text/x-python",
   "name": "python",
   "nbconvert_exporter": "python",
   "pygments_lexer": "ipython3",
   "version": "3.7.4"
  }
 },
 "nbformat": 4,
 "nbformat_minor": 2
}
